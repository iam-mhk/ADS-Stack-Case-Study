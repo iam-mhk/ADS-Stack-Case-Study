{
 "cells": [
  {
   "cell_type": "code",
   "execution_count": 5,
   "id": "172a0190-a5db-4883-b4ef-519d42a97733",
   "metadata": {},
   "outputs": [
    {
     "name": "stdout",
     "output_type": "stream",
     "text": [
      "Program to implement tha stack using linked list\n",
      "1.push\n",
      "2.pop\n",
      "3.peek\n",
      "4.Display\n",
      "5.Exit\n"
     ]
    },
    {
     "name": "stdin",
     "output_type": "stream",
     "text": [
      "Enter your choice: 2\n"
     ]
    },
    {
     "name": "stdout",
     "output_type": "stream",
     "text": [
      "Stack underflow\n",
      "Program to implement tha stack using linked list\n",
      "1.push\n",
      "2.pop\n",
      "3.peek\n",
      "4.Display\n",
      "5.Exit\n"
     ]
    },
    {
     "name": "stdin",
     "output_type": "stream",
     "text": [
      "Enter your choice: 1\n",
      "Enter the data: 3\n"
     ]
    },
    {
     "name": "stdout",
     "output_type": "stream",
     "text": [
      "Program to implement tha stack using linked list\n",
      "1.push\n",
      "2.pop\n",
      "3.peek\n",
      "4.Display\n",
      "5.Exit\n"
     ]
    },
    {
     "name": "stdin",
     "output_type": "stream",
     "text": [
      "Enter your choice: 4\n"
     ]
    },
    {
     "name": "stdout",
     "output_type": "stream",
     "text": [
      "3\n",
      "Program to implement tha stack using linked list\n",
      "1.push\n",
      "2.pop\n",
      "3.peek\n",
      "4.Display\n",
      "5.Exit\n"
     ]
    },
    {
     "name": "stdin",
     "output_type": "stream",
     "text": [
      "Enter your choice: 5\n"
     ]
    },
    {
     "name": "stdout",
     "output_type": "stream",
     "text": [
      "Quitting!!!!!!!\n"
     ]
    }
   ],
   "source": [
    "class StackNode:\n",
    "    def __init__ (self,NewData,link):\n",
    "        self.data=NewData\n",
    "        self.next=link\n",
    "class Stack:\n",
    "    def __init__ (self):\n",
    "        self.top=None # Initialize the stack as empty\n",
    "    def isempty(self):\n",
    "        return self.top is None\n",
    "    def peek(self):\n",
    "        if self.isempty():\n",
    "            return \"Stack is empty\" # Handle empty stack gracefully\n",
    "        return self.top.data\n",
    "    def pop(self):\n",
    "        if self.isempty():\n",
    "            return \"Stack is empty\"\n",
    "        node=self.top\n",
    "        self.top = self.top.next # Move the top pointer to the next node\n",
    "        return node.data\n",
    "    def push(self,NewData):\n",
    "        self.top=StackNode(NewData,self.top) # Add a new node to the top of the stack\n",
    "    def display(self):\n",
    "        curNode=self.top\n",
    "        while curNode is not None:\n",
    "            print(curNode.data)\n",
    "            curNode=curNode.next\n",
    "\n",
    "s=Stack()\n",
    "while(True):\n",
    "    print(\"Program to implement tha stack using linked list\")\n",
    "    print(\"1.push\")\n",
    "    print(\"2.pop\")\n",
    "    print(\"3.peek\")\n",
    "    print(\"4.Display\")\n",
    "    print(\"5.Exit\")\n",
    "    choice=int(input(\"Enter your choice:\"))\n",
    "    if choice ==1:\n",
    "        num= int(input(\"Enter the data:\"))\n",
    "        s.push(num)\n",
    "    elif choice == 2:\n",
    "        if s.isempty():\n",
    "            print(\"Stack underflow\")\n",
    "        else:\n",
    "            num=s.pop()\n",
    "            print(\"The popped element:\",num)\n",
    "    elif choice==3:\n",
    "        if s.isempty():\n",
    "            print(\"Stack underflow\")\n",
    "        else:\n",
    "            num =s.peek()\n",
    "            print(\"Stack is empty\",num)\n",
    "    elif choice ==4:\n",
    "        if s.isempty():\n",
    "            print(\"Stack is empty\")\n",
    "        else:\n",
    "            s.display()\n",
    "    elif choice ==5:\n",
    "        print(\"Quitting!!!!!!!\")\n",
    "        break\n",
    "    else:\n",
    "        print(\"Invalid choice! Enter the choice(1-5)!\")\n",
    "        continue\n",
    "    "
   ]
  },
  {
   "cell_type": "markdown",
   "id": "b579b731-44f1-4d44-a7e9-8185427b147a",
   "metadata": {},
   "source": [
    "Q.Write a program to cheak wheather an expression is prperly paranhesied or not."
   ]
  }
 ],
 "metadata": {
  "kernelspec": {
   "display_name": "Python [conda env:base] *",
   "language": "python",
   "name": "conda-base-py"
  },
  "language_info": {
   "codemirror_mode": {
    "name": "ipython",
    "version": 3
   },
   "file_extension": ".py",
   "mimetype": "text/x-python",
   "name": "python",
   "nbconvert_exporter": "python",
   "pygments_lexer": "ipython3",
   "version": "3.12.4"
  }
 },
 "nbformat": 4,
 "nbformat_minor": 5
}
