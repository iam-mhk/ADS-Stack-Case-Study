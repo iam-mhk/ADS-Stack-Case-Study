{
 "cells": [
  {
   "cell_type": "code",
   "execution_count": 5,
   "id": "978669a6-1bc6-45d5-8687-a123147e649d",
   "metadata": {},
   "outputs": [
    {
     "name": "stdin",
     "output_type": "stream",
     "text": [
      "Enter number of elements:  3\n",
      "Enter element:  1\n",
      "Enter element:  2\n",
      "Enter element:  3\n",
      "Enter the searching element:  4\n"
     ]
    },
    {
     "name": "stdout",
     "output_type": "stream",
     "text": [
      "Element not found\n"
     ]
    }
   ],
   "source": [
    "class LinearSearch:#It search every element serially.\n",
    "    \n",
    "    def search(list, key_value):\n",
    "        index = 0\n",
    "        while index < len(list):\n",
    "            if list[index] == key_value:\n",
    "                return index\n",
    "            index += 1\n",
    "        return -1   #(-1 to indicate that the element is not present.)\n",
    "\n",
    "n = int(input(\"Enter number of elements: \"))\n",
    "lst = []\n",
    "\n",
    "for i in range(n):\n",
    "    num = int(input(\"Enter element: \"))\n",
    "    lst.append(num)\n",
    "\n",
    "key = int(input(\"Enter the searching element: \"))\n",
    "position = LinearSearch.search(lst, key)\n",
    "\n",
    "if position == -1:   #(If the position is -1, it prints \"Element not found\".)\n",
    "    print(\"Element not found\")\n",
    "else:\n",
    "    print(\"{} Element found at position {}\".format(key, position))\n",
    "    #(The .format() method in Python is used to format strings.\n",
    "    #(It allows you to insert values into placeholders (curly braces {}) within a string.)\n",
    "#Time Complexity: O(n)\n",
    "#The time complexity of linear search is determined by the number of elements in the list:\n",
    "#Best Case: O(1) - The key_value is found at the first element.\n",
    "#Worst Case: O(n) - The key_value is not found, and the algorithm checks all elements.\n",
    "#Average Case: O(n) - On average, the algorithm will check about half of the elements before finding the key_value.\n",
    "#Space Complexity: O(1)\n",
    "#The space complexity of linear search is determined by the additional space used by the algorithm:\n",
    "#The algorithm uses a constant amount of extra space for the index variable and other temporary variables.\n",
    "\n",
    "\n",
    "           "
   ]
  },
  {
   "cell_type": "code",
   "execution_count": 5,
   "id": "4e851b08-95cf-4fb5-88a2-e20374928481",
   "metadata": {},
   "outputs": [
    {
     "name": "stdout",
     "output_type": "stream",
     "text": [
      "Unique element found using Linear Search: 4\n"
     ]
    }
   ],
   "source": [
    "class LinearSearch:\n",
    "    def __init__(self, arr):\n",
    "        self.arr = arr\n",
    "    \n",
    "    def search(self):\n",
    "        index = 0\n",
    "        while index < len(self.arr):\n",
    "            if index == len(self.arr) - 1 or self.arr[index] != self.arr[index + 1]:\n",
    "                return self.arr[index]\n",
    "            index += 2\n",
    "        return -1\n",
    "\n",
    "# Example usage\n",
    "arr = [1, 1, 2, 2, 3, 3, 4, 5, 5]\n",
    "linear_search = LinearSearch(arr)\n",
    "unique_element = linear_search.search()\n",
    "print(\"Unique element found using Linear Search:\", unique_element)\n",
    "#Time Complexity: O(n)\n",
    "#The time complexity of linear search is determined by the number of elements in the list:\n",
    "#Best Case: O(1) - The key_value is found at the first element.\n",
    "#Worst Case: O(n) - The key_value is not found, and the algorithm checks all elements.\n",
    "#Average Case: O(n) - On average, the algorithm will check about half of the elements before finding the key_value.\n"
   ]
  },
  {
   "cell_type": "code",
   "execution_count": null,
   "id": "91299a59-733d-4028-bbda-fdce752070f7",
   "metadata": {},
   "outputs": [],
   "source": []
  }
 ],
 "metadata": {
  "kernelspec": {
   "display_name": "Python [conda env:base] *",
   "language": "python",
   "name": "conda-base-py"
  },
  "language_info": {
   "codemirror_mode": {
    "name": "ipython",
    "version": 3
   },
   "file_extension": ".py",
   "mimetype": "text/x-python",
   "name": "python",
   "nbconvert_exporter": "python",
   "pygments_lexer": "ipython3",
   "version": "3.12.4"
  }
 },
 "nbformat": 4,
 "nbformat_minor": 5
}
