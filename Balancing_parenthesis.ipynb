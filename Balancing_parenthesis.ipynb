{
 "cells": [
  {
   "cell_type": "code",
   "execution_count": 1,
   "metadata": {
    "colab": {
     "base_uri": "https://localhost:8080/"
    },
    "id": "StDOp9XQqR5E",
    "outputId": "008e9465-eb8b-4c56-85e2-6020b30a80bd"
   },
   "outputs": [
    {
     "name": "stdout",
     "output_type": "stream",
     "text": [
      "Enter any expression: A+[B*{(C-D)/E}]\n",
      "Expression is well parenthesized\n"
     ]
    }
   ],
   "source": [
    "class StackNode:\n",
    "    def __init__(self, Newdata, link):  # Declaration of node structure\n",
    "        self.data = Newdata\n",
    "        self.next = link\n",
    "\n",
    "class Stack:\n",
    "    # Create an empty stack\n",
    "    def __init__(self):\n",
    "        self.top = None\n",
    "\n",
    "    def isempty(self):\n",
    "        return self.top is None\n",
    "\n",
    "    def push(self, data):\n",
    "        # Push the top element in the stack\n",
    "        self.top = StackNode(data, self.top)\n",
    "\n",
    "    def pop(self):\n",
    "        if not self.isempty():\n",
    "            node = self.top\n",
    "            self.top = self.top.next\n",
    "            return node.data\n",
    "        else:\n",
    "            return None  # Return None if stack is empty\n",
    "\n",
    "    def peek(self):\n",
    "        if not self.isempty():\n",
    "            return self.top.data\n",
    "        return None  # Return None if stack is empty\n",
    "\n",
    "    def display(self):\n",
    "        curNode = self.top\n",
    "        print()\n",
    "        while curNode is not None:\n",
    "            print(curNode.data)\n",
    "            curNode = curNode.next\n",
    "\n",
    "\n",
    "def chk_parenthesis(expr):\n",
    "    st = Stack()\n",
    "    for ch in expr:\n",
    "        if ch == '(' or ch == '{' or ch == '[':\n",
    "            st.push(ch)  # Push the opening parenthesis to the stack\n",
    "        elif ch == ')' or ch == '}' or ch == ']':\n",
    "            if st.isempty():\n",
    "                print(\"No matching opening parenthesis\")\n",
    "                return\n",
    "            else:\n",
    "                if getmatch(ch) != st.pop():\n",
    "                    print(\"Improper nesting of parenthesis\")\n",
    "                    return\n",
    "    if not st.isempty():\n",
    "        print(\"No matching closing parenthesis\")\n",
    "    else:\n",
    "        print(\"Expression is well parenthesized\")\n",
    "def getmatch(ch):\n",
    "    if ch == ')':\n",
    "        return '('\n",
    "    elif ch == '}':\n",
    "        return '{'\n",
    "    elif ch == ']':\n",
    "        return '['\n",
    "# Main program\n",
    "exp = input(\"Enter any expression: \")\n",
    "chk_parenthesis(exp)"
   ]
  }
 ],
 "metadata": {
  "colab": {
   "provenance": []
  },
  "kernelspec": {
   "display_name": "Python [conda env:base] *",
   "language": "python",
   "name": "conda-base-py"
  },
  "language_info": {
   "codemirror_mode": {
    "name": "ipython",
    "version": 3
   },
   "file_extension": ".py",
   "mimetype": "text/x-python",
   "name": "python",
   "nbconvert_exporter": "python",
   "pygments_lexer": "ipython3",
   "version": "3.12.4"
  }
 },
 "nbformat": 4,
 "nbformat_minor": 4
}
