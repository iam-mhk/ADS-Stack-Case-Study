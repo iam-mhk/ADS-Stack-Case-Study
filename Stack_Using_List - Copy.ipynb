{
 "cells": [
  {
   "cell_type": "code",
   "execution_count": 1,
   "id": "22cb9e33-cacb-46bf-aef7-64ec621a336a",
   "metadata": {},
   "outputs": [
    {
     "name": "stdout",
     "output_type": "stream",
     "text": [
      "\n",
      "Program to implement the stack using list\n",
      "1. Push\n",
      "2. Pop\n",
      "3. Peek\n",
      "4. Display\n",
      "5. Exit\n"
     ]
    },
    {
     "ename": "KeyboardInterrupt",
     "evalue": "Interrupted by user",
     "output_type": "error",
     "traceback": [
      "\u001b[1;31m---------------------------------------------------------------------------\u001b[0m",
      "\u001b[1;31mKeyboardInterrupt\u001b[0m                         Traceback (most recent call last)",
      "Cell \u001b[1;32mIn[1], line 47\u001b[0m\n\u001b[0;32m     44\u001b[0m \u001b[38;5;28mprint\u001b[39m(\u001b[38;5;124m\"\u001b[39m\u001b[38;5;124m4. Display\u001b[39m\u001b[38;5;124m\"\u001b[39m)\n\u001b[0;32m     45\u001b[0m \u001b[38;5;28mprint\u001b[39m(\u001b[38;5;124m\"\u001b[39m\u001b[38;5;124m5. Exit\u001b[39m\u001b[38;5;124m\"\u001b[39m)\n\u001b[1;32m---> 47\u001b[0m choice \u001b[38;5;241m=\u001b[39m \u001b[38;5;28mint\u001b[39m(\u001b[38;5;28minput\u001b[39m(\u001b[38;5;124m\"\u001b[39m\u001b[38;5;124mEnter your choice: \u001b[39m\u001b[38;5;124m\"\u001b[39m))  \u001b[38;5;66;03m# Prompt the user for their choice\u001b[39;00m\n\u001b[0;32m     49\u001b[0m \u001b[38;5;28;01mif\u001b[39;00m choice \u001b[38;5;241m==\u001b[39m \u001b[38;5;241m1\u001b[39m:  \u001b[38;5;66;03m# If the user selects option 1 (Push)\u001b[39;00m\n\u001b[0;32m     50\u001b[0m     num \u001b[38;5;241m=\u001b[39m \u001b[38;5;28mint\u001b[39m(\u001b[38;5;28minput\u001b[39m(\u001b[38;5;124m\"\u001b[39m\u001b[38;5;124mEnter the data: \u001b[39m\u001b[38;5;124m\"\u001b[39m))  \u001b[38;5;66;03m# Ask for the data to push onto the stack\u001b[39;00m\n",
      "File \u001b[1;32m~\\anaconda3\\Lib\\site-packages\\ipykernel\\kernelbase.py:1262\u001b[0m, in \u001b[0;36mKernel.raw_input\u001b[1;34m(self, prompt)\u001b[0m\n\u001b[0;32m   1260\u001b[0m     msg \u001b[38;5;241m=\u001b[39m \u001b[38;5;124m\"\u001b[39m\u001b[38;5;124mraw_input was called, but this frontend does not support input requests.\u001b[39m\u001b[38;5;124m\"\u001b[39m\n\u001b[0;32m   1261\u001b[0m     \u001b[38;5;28;01mraise\u001b[39;00m StdinNotImplementedError(msg)\n\u001b[1;32m-> 1262\u001b[0m \u001b[38;5;28;01mreturn\u001b[39;00m \u001b[38;5;28mself\u001b[39m\u001b[38;5;241m.\u001b[39m_input_request(\n\u001b[0;32m   1263\u001b[0m     \u001b[38;5;28mstr\u001b[39m(prompt),\n\u001b[0;32m   1264\u001b[0m     \u001b[38;5;28mself\u001b[39m\u001b[38;5;241m.\u001b[39m_parent_ident[\u001b[38;5;124m\"\u001b[39m\u001b[38;5;124mshell\u001b[39m\u001b[38;5;124m\"\u001b[39m],\n\u001b[0;32m   1265\u001b[0m     \u001b[38;5;28mself\u001b[39m\u001b[38;5;241m.\u001b[39mget_parent(\u001b[38;5;124m\"\u001b[39m\u001b[38;5;124mshell\u001b[39m\u001b[38;5;124m\"\u001b[39m),\n\u001b[0;32m   1266\u001b[0m     password\u001b[38;5;241m=\u001b[39m\u001b[38;5;28;01mFalse\u001b[39;00m,\n\u001b[0;32m   1267\u001b[0m )\n",
      "File \u001b[1;32m~\\anaconda3\\Lib\\site-packages\\ipykernel\\kernelbase.py:1305\u001b[0m, in \u001b[0;36mKernel._input_request\u001b[1;34m(self, prompt, ident, parent, password)\u001b[0m\n\u001b[0;32m   1302\u001b[0m \u001b[38;5;28;01mexcept\u001b[39;00m \u001b[38;5;167;01mKeyboardInterrupt\u001b[39;00m:\n\u001b[0;32m   1303\u001b[0m     \u001b[38;5;66;03m# re-raise KeyboardInterrupt, to truncate traceback\u001b[39;00m\n\u001b[0;32m   1304\u001b[0m     msg \u001b[38;5;241m=\u001b[39m \u001b[38;5;124m\"\u001b[39m\u001b[38;5;124mInterrupted by user\u001b[39m\u001b[38;5;124m\"\u001b[39m\n\u001b[1;32m-> 1305\u001b[0m     \u001b[38;5;28;01mraise\u001b[39;00m \u001b[38;5;167;01mKeyboardInterrupt\u001b[39;00m(msg) \u001b[38;5;28;01mfrom\u001b[39;00m \u001b[38;5;28;01mNone\u001b[39;00m\n\u001b[0;32m   1306\u001b[0m \u001b[38;5;28;01mexcept\u001b[39;00m \u001b[38;5;167;01mException\u001b[39;00m:\n\u001b[0;32m   1307\u001b[0m     \u001b[38;5;28mself\u001b[39m\u001b[38;5;241m.\u001b[39mlog\u001b[38;5;241m.\u001b[39mwarning(\u001b[38;5;124m\"\u001b[39m\u001b[38;5;124mInvalid Message:\u001b[39m\u001b[38;5;124m\"\u001b[39m, exc_info\u001b[38;5;241m=\u001b[39m\u001b[38;5;28;01mTrue\u001b[39;00m)\n",
      "\u001b[1;31mKeyboardInterrupt\u001b[0m: Interrupted by user"
     ]
    }
   ],
   "source": [
    "class Stack:\n",
    "    def __init__(self):\n",
    "        self.items = []  # Initialize an empty stack\n",
    "\n",
    "    def isempty(self):\n",
    "        return self.items == []  # Returns True if the stack is empty\n",
    "\n",
    "    def push(self, item):\n",
    "        self.items.append(item)  # Append item to the stack\n",
    "\n",
    "    def pop(self):\n",
    "        if self.isempty():  # Check if the stack is empty\n",
    "            print(\"Stack Underflow\")  # Print an error message if the stack is empty\n",
    "            return None  # Return None to indicate that no item was popped\n",
    "        return self.items.pop()  # Pop and return the top item from the stack\n",
    "\n",
    "    def peek(self):\n",
    "        if self.isempty():  # Check if the stack is empty\n",
    "            print(\"Stack is empty\")  # Print an error message if the stack is empty\n",
    "            return None  # Return None to indicate there is no top element\n",
    "        return self.items[len(self.items) - 1]  # Return the top item from the stack\n",
    "\n",
    "    def size(self):\n",
    "        return len(self.items)  # Return the length of the stack list\n",
    "\n",
    "    def display(self):\n",
    "        if self.isempty():  # Check if the stack is empty\n",
    "            print(\"Stack is empty\")  # Print an error message if the stack is empty\n",
    "            return  # Do not try to display anything if the stack is empty\n",
    "\n",
    "        print(\"Stack elements (from top to bottom):\")\n",
    "        top = len(self.items)\n",
    "        for i in range(top - 1, -1, -1):  # Loop through the stack from top to bottom\n",
    "            print(self.items[i])  # Print each item in the stack\n",
    "\n",
    "\n",
    "# Main program loop\n",
    "s = Stack()  # Create an instance of the Stack class\n",
    "while True:\n",
    "    print(\"\\nProgram to implement the stack using list\")  # Print the menu header\n",
    "    print(\"1. Push\")\n",
    "    print(\"2. Pop\")\n",
    "    print(\"3. Peek\")\n",
    "    print(\"4. Display\")\n",
    "    print(\"5. Exit\")\n",
    "\n",
    "    choice = int(input(\"Enter your choice: \"))  # Prompt the user for their choice\n",
    "\n",
    "    if choice == 1:  # If the user selects option 1 (Push)\n",
    "        num = int(input(\"Enter the data: \"))  # Ask for the data to push onto the stack\n",
    "        s.push(num)  # Call the push method to add the item to the stack\n",
    "\n",
    "    elif choice == 2:  # If the user selects option 2 (Pop)\n",
    "        num = s.pop()  # Call the pop method to remove and return the top item\n",
    "        if num is not None:  # Only print the popped item if it is not None (empty stack)\n",
    "            print(\"Popped item =\", num)  # Print the popped item\n",
    "\n",
    "    elif choice == 3:  # If the user selects option 3 (Peek)\n",
    "        num = s.peek()  # Call the peek method to view the top item without removing it\n",
    "        if num is not None:  # Only print the top item if it is not None (empty stack)\n",
    "            print(\"Item at the top of the stack:\", num)  # Print the top item\n",
    "\n",
    "    elif choice == 4:  # If the user selects option 4 (Display)\n",
    "        s.display()  # Call the display method to show all items in the stack\n",
    "\n",
    "    elif choice == 5:  # If the user selects option 5 (Exit)\n",
    "        print(\"\\nQuitting .......\")  # Print a quitting message\n",
    "        break  # Exit the loop and terminate the program\n",
    "\n",
    "    else:  # If the user enters an invalid choice\n",
    "        print(\"Invalid choice! Enter a correct choice (1-5):\")  # Print an error message\n",
    "        continue  # Continue the loop and prompt for a correct input\n"
   ]
  },
  {
   "cell_type": "markdown",
   "id": "a3b5b630-a641-433c-b990-51f0ef40843a",
   "metadata": {},
   "source": [
    "Q1.reverse an element in stack.\n",
    "Q2. sort the elements in decending order without using the built in fuctionsort.\n",
    "Q3.Find the minimum element in the stack using built in function.\n"
   ]
  }
 ],
 "metadata": {
  "kernelspec": {
   "display_name": "Python [conda env:base] *",
   "language": "python",
   "name": "conda-base-py"
  },
  "language_info": {
   "codemirror_mode": {
    "name": "ipython",
    "version": 3
   },
   "file_extension": ".py",
   "mimetype": "text/x-python",
   "name": "python",
   "nbconvert_exporter": "python",
   "pygments_lexer": "ipython3",
   "version": "3.12.4"
  }
 },
 "nbformat": 4,
 "nbformat_minor": 5
}
