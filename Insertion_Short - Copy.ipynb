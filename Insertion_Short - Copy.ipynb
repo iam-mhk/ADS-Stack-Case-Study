{
 "cells": [
  {
   "cell_type": "code",
   "execution_count": 7,
   "id": "268486f7-ea0a-473e-858c-cd011d440b66",
   "metadata": {},
   "outputs": [
    {
     "name": "stdin",
     "output_type": "stream",
     "text": [
      "Enter the number of elements: 5\n",
      "Enter the elements: 1\n",
      "Enter the elements: 6\n",
      "Enter the elements: 7\n",
      "Enter the elements: 8\n",
      "Enter the elements: 3\n"
     ]
    },
    {
     "name": "stdout",
     "output_type": "stream",
     "text": [
      "The sorted elements are:\n",
      "1 3 6 7 8 "
     ]
    }
   ],
   "source": [
    "def insertion_sort(list):\n",
    "    size=len(list)\n",
    "    for i in range(1, size):\n",
    "        temp=list[i]\n",
    "        j=i-1\n",
    "        while temp<list[j] and j>=0:#(for sifting the element to the right side)\n",
    "            list[j+1]=list[j]\n",
    "            j=j-1\n",
    "            list[j+1]=temp\n",
    "\n",
    "n=int(input(\"Enter the number of elements:\"))\n",
    "lst=[]\n",
    "for i in range(n):\n",
    "    num =int(input(\"Enter the elements:\"))\n",
    "    lst.append(num)\n",
    "\n",
    "insertion_sort(lst)\n",
    "print(\"The sorted elements are:\")\n",
    "for i in range(n):\n",
    "             print(lst[i],end=\" \")\n"
   ]
  },
  {
   "cell_type": "code",
   "execution_count": null,
   "id": "1b0ed973-b08f-4c3b-bf65-2514cb0c5044",
   "metadata": {},
   "outputs": [],
   "source": []
  }
 ],
 "metadata": {
  "kernelspec": {
   "display_name": "Python [conda env:base] *",
   "language": "python",
   "name": "conda-base-py"
  },
  "language_info": {
   "codemirror_mode": {
    "name": "ipython",
    "version": 3
   },
   "file_extension": ".py",
   "mimetype": "text/x-python",
   "name": "python",
   "nbconvert_exporter": "python",
   "pygments_lexer": "ipython3",
   "version": "3.12.4"
  }
 },
 "nbformat": 4,
 "nbformat_minor": 5
}
