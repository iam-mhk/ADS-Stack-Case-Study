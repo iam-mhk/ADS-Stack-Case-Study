{
 "cells": [
  {
   "cell_type": "markdown",
   "id": "cfacbcaa-a49d-45e9-9a49-1c338f660f80",
   "metadata": {},
   "source": [
    "You are given a sorted array of integers where every element \r\n",
    "appears exactly twice, except for one element which appears only once. \r\n",
    "Write a Python program to find that unique element using \r\n",
    "both Linear Search and Binary Search. \r\n",
    "\r\n",
    "        Input: arr = [1, 1, 2, 2, 3, 3, 4, 5, 5] \r\n",
    "\r\n",
    "Linear Search: Implement the standard linear search \r\n",
    "to find the unique element. \r\n",
    "\r\n",
    "Binary Search: Implement an optimized binary search algorithm \r\n",
    "to find the unique element in O(log n) time, \r\n",
    "exploiting the fact that the array is sorted. \r\n",
    "\r\n",
    "After implementing both approaches, \r\n",
    "compare the time complexities of each approach and \r\n",
    "discuss which approach is more efficient in terms of performance."
   ]
  },
  {
   "cell_type": "code",
   "execution_count": 6,
   "id": "18ae7cce-f9e9-4678-95e9-9b3c3caf1831",
   "metadata": {},
   "outputs": [
    {
     "name": "stdout",
     "output_type": "stream",
     "text": [
      "Unique element found by Binary Search: 4\n"
     ]
    }
   ],
   "source": [
    "def unique_binary_nmbr(arr):\n",
    "    low = 0\n",
    "    high = len(arr) - 1\n",
    "    while low < high:\n",
    "        mid = low + (high - low) // 2\n",
    "        if mid % 2 == 1:\n",
    "            mid -= 1\n",
    "        if arr[mid] == arr[mid + 1]:\n",
    "            low = mid + 2\n",
    "        else:\n",
    "            high = mid\n",
    "    return arr[low]\n",
    "\n",
    "arr = [1, 1, 2, 2, 3, 3, 4, 5, 5]\n",
    "\n",
    "\n",
    "unique_element = unique_binary_nmbr(arr)\n",
    "print(\"Unique element found by Binary Search:\", unique_element_binary)\n",
    "#Time Complexity: O(log n)\n",
    "#Where n is the number of elements in the list.\n",
    "#This is because in each iteration, the algorithm divides the list into two halves,\n",
    "#reducing the search space exponentially.\n"
   ]
  },
  {
   "cell_type": "code",
   "execution_count": 4,
   "id": "ab588669-f8ac-4936-91b7-ef087c64a17f",
   "metadata": {},
   "outputs": [
    {
     "name": "stdout",
     "output_type": "stream",
     "text": [
      "Unique element found using Linear Search: 4\n"
     ]
    }
   ],
   "source": [
    "class LinearSearch:\n",
    "    def __init__(self, arr):\n",
    "        self.arr = arr\n",
    "    \n",
    "    def search(self):\n",
    "        index = 0\n",
    "        while index < len(self.arr):\n",
    "            if index == len(self.arr) - 1 or self.arr[index] != self.arr[index + 1]:\n",
    "                return self.arr[index]\n",
    "            index += 2\n",
    "        return -1\n",
    "\n",
    "arr = [1, 1, 2, 2, 3, 3, 4, 5, 5]\n",
    "linear_search = LinearSearch(arr)\n",
    "unique_element = linear_search.search()\n",
    "print(\"Unique element found using Linear Search:\", unique_element)\n",
    "#Time Complexity: O(n)\n",
    "#The time complexity of linear search is determined by the number of elements in the list:\n",
    "#Best Case: O(1) - The key_value is found at the first element.\n",
    "#Worst Case: O(n) - The key_value is not found, and the algorithm checks all elements.\n",
    "#Average Case: O(n) - On average, the algorithm will check about half of the elements before finding the key_value."
   ]
  },
  {
   "cell_type": "markdown",
   "id": "cc632535-cd4b-4dbc-a3be-bd6ae9d366bc",
   "metadata": {},
   "source": [
    "Conclusion:\n",
    "The binary search approach is more efficient in terms of performance for large, sorted lists due to its O(log n) time complexity.\n",
    "\n",
    "The linear search approach is simpler and may be suitable for small or unsorted lists, but it becomes less efficient with larger lists due to its O(n) time complexity."
   ]
  }
 ],
 "metadata": {
  "kernelspec": {
   "display_name": "Python [conda env:base] *",
   "language": "python",
   "name": "conda-base-py"
  },
  "language_info": {
   "codemirror_mode": {
    "name": "ipython",
    "version": 3
   },
   "file_extension": ".py",
   "mimetype": "text/x-python",
   "name": "python",
   "nbconvert_exporter": "python",
   "pygments_lexer": "ipython3",
   "version": "3.12.4"
  }
 },
 "nbformat": 4,
 "nbformat_minor": 5
}
