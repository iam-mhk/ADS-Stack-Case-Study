{
 "cells": [
  {
   "cell_type": "code",
   "execution_count": 5,
   "id": "e375f88f-2852-429d-b40b-421ffc79f683",
   "metadata": {},
   "outputs": [
    {
     "name": "stdin",
     "output_type": "stream",
     "text": [
      "Enter the no.of elements: 5\n",
      "Enter the elements: 2\n",
      "Enter the elements: 7\n",
      "Enter the elements: 1\n",
      "Enter the elements: 4\n",
      "Enter the elements: 9\n"
     ]
    },
    {
     "name": "stdout",
     "output_type": "stream",
     "text": [
      "Original Array: [2, 7, 1, 4, 9]\n",
      "Sorted Array: [1, 2, 4, 7, 9]\n"
     ]
    }
   ],
   "source": [
    "def merge_sort(arr,lst,lend,rst,rend):\n",
    "    temp=[]\n",
    "    i=lst#i points to the begning of the left subarray\n",
    "    j=rst#j points to the begning of the right subarray                           \n",
    "    while i<=lend and j<=rend:#lend: The ending index of the left subarray.\n",
    "        if arr[i] < arr[j]:#rend: The ending index of the right subarray.\n",
    "            temp.append(arr[i])\n",
    "            i+=1\n",
    "\n",
    "        else:\n",
    "            temp.append(arr[j])\n",
    "            j+=1\n",
    "\n",
    "    #if  there any remaing element in the left sub array\n",
    "    while i<=lend:\n",
    "        temp.append(arr[i])\n",
    "        i+=1\n",
    "     #if  there any remaing element in the right sub array\n",
    "    while j<=rend:\n",
    "        temp.append(arr[j])\n",
    "        j+=1\n",
    "        #copy the sorted elements back into the original array\n",
    "    for i in range (lst,rend+1):\n",
    "        arr[i]=temp[i-lst]\n",
    "\n",
    "def mergesort(arr,left,right):\n",
    "    if left < right:\n",
    "        mid=(left+right)//2#Correct mid calculation\n",
    "        #Recursively sort the two halves\n",
    "        mergesort(arr,left,mid)\n",
    "        mergesort(arr,mid+1,right)\n",
    "        #merge the sort halves\n",
    "        merge_sort(arr,left,mid,mid+1,right)\n",
    "\n",
    "#Main program to input and test the sorting\n",
    "arr=[]\n",
    "n=int(input(\"Enter the no.of elements:\"))\n",
    "for i in range(n):\n",
    "    arr.append(int(input(\"Enter the elements:\")))\n",
    "\n",
    "print(\"Original Array:\",arr)\n",
    "mergesort(arr,0,n-1)\n",
    "print(\"Sorted Array:\",arr)\n",
    "#Time Complexity:\n",
    "#The merge sort algorithm works on log n levels, and at each level, the merge process takes O(n) time.\n",
    "#Hence, the total time complexity is: O(n log n)\n",
    "#Space Complexity:\n",
    "#The dominant factor is the O(n) auxiliary space for the temporary array.\n",
    "#So, the overall space complexity is: O(n)"
   ]
  },
  {
   "cell_type": "code",
   "execution_count": 7,
   "id": "23467dcf-0d7a-4e2d-bedc-7ab2165a27f0",
   "metadata": {},
   "outputs": [
    {
     "name": "stdin",
     "output_type": "stream",
     "text": [
      "Enter the no.of elements: 5\n",
      "Enter the elements: 2\n",
      "Enter the elements: 7\n",
      "Enter the elements: 1\n",
      "Enter the elements: 4\n",
      "Enter the elements: 9\n"
     ]
    },
    {
     "name": "stdout",
     "output_type": "stream",
     "text": [
      "Original Array: [2, 7, 1, 4, 9]\n",
      "Sorted Array: [9, 7, 4, 2, 1]\n"
     ]
    }
   ],
   "source": [
    "def merge_sort(arr,lst,lend,rst,rend):\n",
    "    temp=[]\n",
    "    i=lst#i points to the begning of the left subarray\n",
    "    j=rst#j points to the begning of the right subarray                           \n",
    "    while i<=lend and j<=rend:#lend: The ending index of the left subarray.rend: The ending index of the right subarray.\n",
    "        if arr[i] > arr[j]:\n",
    "            temp.append(arr[i])\n",
    "            i+=1\n",
    "\n",
    "        else:\n",
    "            temp.append(arr[j])\n",
    "            j+=1\n",
    "\n",
    "    #if  there any remaing element in the left sub array\n",
    "    while i<=lend:\n",
    "        temp.append(arr[i])\n",
    "        i+=1\n",
    "     #if  there any remaing element in the right sub array\n",
    "    while j<=rend:\n",
    "        temp.append(arr[j])\n",
    "        j+=1\n",
    "        #copy the sorted elements back into the original array\n",
    "    for i in range (lst,rend+1):\n",
    "        arr[i]=temp[i-lst]\n",
    "\n",
    "def mergesort(arr,left,right):\n",
    "    if left < right:\n",
    "        mid=(left+right)//2#Correct mid calculation\n",
    "        #Recursively sort the two halves\n",
    "        mergesort(arr,left,mid)\n",
    "        mergesort(arr,mid+1,right)\n",
    "        #merge the sort halves\n",
    "        merge_sort(arr,left,mid,mid+1,right)\n",
    "\n",
    "#Main program to input and test the sorting\n",
    "arr=[]\n",
    "n=int(input(\"Enter the no.of elements:\"))\n",
    "for i in range(n):\n",
    "    arr.append(int(input(\"Enter the elements:\")))\n",
    "\n",
    "print(\"Original Array:\",arr)\n",
    "mergesort(arr,0,n-1)\n",
    "print(\"Sorted Array:\",arr) \n",
    "#Time Complexity:\n",
    "#The merge sort algorithm works on log n levels, and at each level, the merge process takes O(n) time.\n",
    "#Hence, the total time complexity is: O(n log n)\n",
    "#Space Complexity:\n",
    "#The dominant factor is the O(n) auxiliary space for the temporary array.\n",
    "#So, the overall space complexity is: O(n)"
   ]
  },
  {
   "cell_type": "code",
   "execution_count": null,
   "id": "093fc1aa-f1f3-4c4a-9c99-8586866851a4",
   "metadata": {},
   "outputs": [],
   "source": []
  }
 ],
 "metadata": {
  "kernelspec": {
   "display_name": "Python [conda env:base] *",
   "language": "python",
   "name": "conda-base-py"
  },
  "language_info": {
   "codemirror_mode": {
    "name": "ipython",
    "version": 3
   },
   "file_extension": ".py",
   "mimetype": "text/x-python",
   "name": "python",
   "nbconvert_exporter": "python",
   "pygments_lexer": "ipython3",
   "version": "3.12.4"
  }
 },
 "nbformat": 4,
 "nbformat_minor": 5
}
