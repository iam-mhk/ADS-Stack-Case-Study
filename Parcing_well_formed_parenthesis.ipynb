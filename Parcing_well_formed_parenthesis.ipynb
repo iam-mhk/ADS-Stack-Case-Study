{
 "cells": [
  {
   "cell_type": "code",
   "execution_count": 3,
   "id": "4d621179-8a0b-47be-bdb6-fa8ef766e9d9",
   "metadata": {},
   "outputs": [
    {
     "name": "stdin",
     "output_type": "stream",
     "text": [
      "Enter any expression: A+[B*{(C-D)/E]}\n"
     ]
    },
    {
     "name": "stdout",
     "output_type": "stream",
     "text": [
      "Improper nesting of parenthesis\n"
     ]
    }
   ],
   "source": [
    "class StackNode:\n",
    "    def __init__ (self,NewData,link=None):\n",
    "        self.data=NewData\n",
    "        self.next=link\n",
    "class Stack:\n",
    "    def __init__ (self):\n",
    "        self.top=None # Initialize the stack as empty\n",
    "    def isempty(self):\n",
    "        return self.top is None\n",
    "    def peek(self):\n",
    "        if self.isempty():\n",
    "            return \"Stack is empty\" # Handle empty stack gracefully\n",
    "        return self.top.data\n",
    "    def pop(self):\n",
    "        if self.isempty():\n",
    "            return \"Stack is empty\"\n",
    "        node=self.top\n",
    "        self.top = self.top.next # Move the top pointer to the next node\n",
    "        return node.data\n",
    "    def push(self,NewData):\n",
    "        self.top=StackNode(NewData,self.top) # Add a new node to the top of the stack\n",
    "    def display(self):\n",
    "        curNode=self.top\n",
    "        while curNode is not None:\n",
    "            print(curNode.data)\n",
    "            curNode=curNode.next\n",
    "\n",
    "def chk_parenthesis(expr):\n",
    "    st=Stack()\n",
    "    for ch in expr:\n",
    "        if ch=='(' or ch=='{' or ch=='[':\n",
    "            st.push (ch) #push the opening prenthesis to the \n",
    "        elif ch==')' or ch=='}' or ch==']' :\n",
    "            if st.isempty ():\n",
    "                print(\"No matching opening parenthesis:\")\n",
    "                return\n",
    "            else:\n",
    "                if getmatch(ch)!=st.pop():\n",
    "                    print(\"Improper nesting of parenthesis\")\n",
    "                    return\n",
    "    if not st.isempty():\n",
    "            print(\"No printing closing parenthesis\")\n",
    "    else:\n",
    "            print(\"Expression is well parenthesized\")\n",
    "def getmatch(ch):\n",
    "    if ch==')':\n",
    "        return'('\n",
    "    elif ch=='}':\n",
    "        return '{'\n",
    "    elif ch==']':\n",
    "        return '['\n",
    "\n",
    "exp=input(\"Enter any expression:\")\n",
    "\n",
    "chk_parenthesis(exp)\n"
   ]
  },
  {
   "cell_type": "code",
   "execution_count": 3,
   "id": "5f2eeed0-0c96-4bdf-a3bc-c4232a4b859a",
   "metadata": {},
   "outputs": [
    {
     "name": "stdin",
     "output_type": "stream",
     "text": [
      "Enter any expression:  A+[B*{(C-D)/E}]\n"
     ]
    },
    {
     "name": "stdout",
     "output_type": "stream",
     "text": [
      "Expression is well parenthesized\n"
     ]
    }
   ],
   "source": [
    "class StackNode:\n",
    "    def __init__(self, NewData, link):  # Fixed the typo in __init__\n",
    "        self.data = NewData\n",
    "        self.next = link\n",
    "\n",
    "class Stack:\n",
    "    def __init__(self):  # Fixed the typo in __init__\n",
    "        self.top = None\n",
    "\n",
    "    def isempty(self):\n",
    "        return self.top is None\n",
    "\n",
    "    def peek(self):\n",
    "        return self.top.data\n",
    "\n",
    "    def pop(self):\n",
    "        if not self.isempty():\n",
    "            node = self.top\n",
    "            self.top = self.top.next\n",
    "            return node.data\n",
    "        return None  # Return None if the stack is empty\n",
    "\n",
    "    def push(self, NewData):  # Added NewData argument to push\n",
    "        self.top = StackNode(NewData, self.top)\n",
    "\n",
    "    def display(self):\n",
    "        curNode = self.top\n",
    "        while curNode is not None:\n",
    "            print(curNode.data)\n",
    "            curNode = curNode.next\n",
    "\n",
    "    \n",
    "def chk_parenthesis(expr):  # Fixed the indentation\n",
    "    st = Stack()\n",
    "    for ch in expr:  # Fixed the indentation of the loop\n",
    "        if ch == '(' or ch == '{' or ch == '[':\n",
    "            st.push(ch)\n",
    "        elif ch == ')' or ch == '}' or ch == ']':\n",
    "            if st.isempty():\n",
    "                print(\"No matching opening parenthesis\")\n",
    "                return\n",
    "            else:\n",
    "                if getmatch(ch) != st.pop():\n",
    "                    print(\"Improper nesting of parenthesis\")\n",
    "                    return\n",
    "    if not st.isempty():\n",
    "        print(\"No matching opening parenthesis\")\n",
    "    else:\n",
    "        print(\"Expression is well parenthesized\")\n",
    "\n",
    "\n",
    "def getmatch(ch):\n",
    "    if ch == ')':\n",
    "        return '('\n",
    "    elif ch == '}':\n",
    "        return '{'\n",
    "    elif ch == ']':\n",
    "        return '['\n",
    "\n",
    "\n",
    "exp = input(\"Enter any expression: \")  # Fixed the variable name\n",
    "chk_parenthesis(exp)\n"
   ]
  },
  {
   "cell_type": "code",
   "execution_count": null,
   "id": "cc23440f-f615-4c86-b275-ce76f5f73b34",
   "metadata": {},
   "outputs": [],
   "source": []
  }
 ],
 "metadata": {
  "kernelspec": {
   "display_name": "Python [conda env:base] *",
   "language": "python",
   "name": "conda-base-py"
  },
  "language_info": {
   "codemirror_mode": {
    "name": "ipython",
    "version": 3
   },
   "file_extension": ".py",
   "mimetype": "text/x-python",
   "name": "python",
   "nbconvert_exporter": "python",
   "pygments_lexer": "ipython3",
   "version": "3.12.4"
  }
 },
 "nbformat": 4,
 "nbformat_minor": 5
}
