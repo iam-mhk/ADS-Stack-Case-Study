{
 "cells": [
  {
   "cell_type": "code",
   "execution_count": 5,
   "id": "ababdd70-0da2-4c49-a298-a98fd6bb9ff4",
   "metadata": {},
   "outputs": [
    {
     "name": "stdout",
     "output_type": "stream",
     "text": [
      "The equivalent prefix expression is:\n",
      "+A/-B*CDE\n"
     ]
    }
   ],
   "source": [
    "class StackNode:\n",
    "  def __init__(self,NewData,link):\n",
    "    self.data=NewData\n",
    "    self.next=link\n",
    "\n",
    "class Stack:\n",
    "  def __init__(self):\n",
    "    self.top=None\n",
    "  def isempty(self):\n",
    "    return self.top is None\n",
    "  def peek(self):\n",
    "    return self.top.data\n",
    "  def pop(self):\n",
    "    node=self.top\n",
    "    self.top=self.top.next\n",
    "    return node.data\n",
    "  def push(self,NewData):\n",
    "    self.top=StackNode(NewData,self.top)\n",
    "# Function to get the priority of operators\n",
    "def getPriority(opr):\n",
    "    if opr in ('*', '/', '%'):\n",
    "        return 2  # Higher precedence for multiplication/division/modulo\n",
    "    elif opr in ('+', '-'):\n",
    "        return 1  # Lower precedence for addition/subtraction\n",
    "    else:\n",
    "        return 0  # Default for non-operators\n",
    "\n",
    "# Function to convert infix to postfix\n",
    "def infix_to_postfix(source):\n",
    "    target = \"\"\n",
    "    stack = []  # Simple list as a stack\n",
    "    for ch in source:\n",
    "        if ch == '(':\n",
    "            stack.append(ch)\n",
    "        elif ch == ')':\n",
    "            while stack and stack[-1] != '(':\n",
    "                target += stack.pop()\n",
    "            stack.pop()  # Remove '(' from the stack\n",
    "        elif ch.isalpha() or ch.isdigit():  # If operand (letter or number)\n",
    "            target += ch\n",
    "        elif ch in ('+', '-', '*', '/', '%'):  # If operator\n",
    "            while stack and stack[-1] != '(' and getPriority(stack[-1]) >= getPriority(ch):\n",
    "                target += stack.pop()  # Pop and append higher/equal precedence operators\n",
    "            stack.append(ch)  # Push the current operator\n",
    "    while stack:  # Add remaining operators\n",
    "        target += stack.pop()\n",
    "    return target\n",
    "\n",
    "# Function to convert infix to prefix\n",
    "def infix_to_prefix(infix):\n",
    "    # Step 1: Reverse the infix expression\n",
    "    reversed_infix = infix[::-1]\n",
    "\n",
    "    # Swap '(' with ')' and vice versa\n",
    "    reversed_infix = reversed_infix.replace('(', 'temp')\n",
    "    reversed_infix = reversed_infix.replace(')', '(')\n",
    "    reversed_infix = reversed_infix.replace('temp', ')')\n",
    "\n",
    "    # Step 2: Convert the reversed infix to postfix\n",
    "    postfix = infix_to_postfix(reversed_infix)\n",
    "\n",
    "    # Step 3: Reverse the postfix expression to get prefix\n",
    "    prefix = postfix[::-1]\n",
    "\n",
    "    return prefix\n",
    "\n",
    "# Example usage\n",
    "infix_exp = \"A+(B-C*D)/E\"  # Input expression\n",
    "prefix = infix_to_prefix(infix_exp)\n",
    "print(\"The equivalent prefix expression is:\")\n",
    "print(prefix)"
   ]
  },
  {
   "cell_type": "code",
   "execution_count": null,
   "id": "50fe2e29-55be-405f-a9d0-364566d933b5",
   "metadata": {},
   "outputs": [],
   "source": []
  }
 ],
 "metadata": {
  "kernelspec": {
   "display_name": "Python [conda env:base] *",
   "language": "python",
   "name": "conda-base-py"
  },
  "language_info": {
   "codemirror_mode": {
    "name": "ipython",
    "version": 3
   },
   "file_extension": ".py",
   "mimetype": "text/x-python",
   "name": "python",
   "nbconvert_exporter": "python",
   "pygments_lexer": "ipython3",
   "version": "3.12.4"
  }
 },
 "nbformat": 4,
 "nbformat_minor": 5
}
