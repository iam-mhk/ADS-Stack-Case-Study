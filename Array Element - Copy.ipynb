{
 "cells": [
  {
   "cell_type": "code",
   "execution_count": 1,
   "id": "70f547d5-32a8-4d33-ad88-99e00893b276",
   "metadata": {},
   "outputs": [
    {
     "name": "stdout",
     "output_type": "stream",
     "text": [
      "Common elements: [4, 5]\n"
     ]
    }
   ],
   "source": [
    "def find_intersection(array1, array2):\n",
    "    set1 = set(array1)\n",
    "    set2 = set(array2)\n",
    "    intersection = set1.intersection(set2)\n",
    "    result = list(intersection)\n",
    "    return result\n",
    "array1 = [1, 2, 3, 4, 5]\n",
    "array2 = [4, 5, 6, 7, 8]\n",
    "common_elements = find_intersection(array1, array2)\n",
    "print(\"Common elements:\", common_elements)"
   ]
  },
  {
   "cell_type": "code",
   "execution_count": 7,
   "id": "b9a70c81-2fec-44eb-8949-cf7dfdc9db2f",
   "metadata": {},
   "outputs": [],
   "source": [
    "from array import*\n",
    "x=array('i',[10,20,30,40,50])\n",
    "type(x)\n",
    "def index_ele(x,find):\n",
    "    try:\n",
    "        return x.index(find)\n",
    "    except ValueError:\n",
    "        return -1"
   ]
  },
  {
   "cell_type": "code",
   "execution_count": 1,
   "id": "c3880b68-65cd-4a00-84bb-fae208530d02",
   "metadata": {},
   "outputs": [
    {
     "name": "stdout",
     "output_type": "stream",
     "text": [
      "Rotated array: [4, 5, 1, 2, 3]\n"
     ]
    }
   ],
   "source": [
    "def rotate_right(arr, k):\n",
    "    # Handle cases where k is greater than the length of the array\n",
    "    k = k % len(arr)\n",
    "    \n",
    "    # Rotate the array\n",
    "    rotated_array = arr[-k:] + arr[:-k]\n",
    "    \n",
    "    return rotated_array\n",
    "\n",
    "# Example usage\n",
    "array = [1, 2, 3, 4, 5]\n",
    "k = 2\n",
    "rotated_array = rotate_right(array, k)\n",
    "print(\"Rotated array:\", rotated_array)\n"
   ]
  },
  {
   "cell_type": "code",
   "execution_count": 3,
   "id": "38f62bdb-af19-43e6-8422-ed54ab54f91b",
   "metadata": {},
   "outputs": [
    {
     "name": "stdout",
     "output_type": "stream",
     "text": [
      "Rotated array: [4, 5, 1, 2, 3]\n"
     ]
    }
   ],
   "source": [
    "# Example array and k value\n",
    "array = [1, 2, 3, 4, 5]\n",
    "k = 2\n",
    "\n",
    "# Handle cases where k is greater than the length of the array\n",
    "k = k % len(array)\n",
    "\n",
    "# Rotate the array manually\n",
    "rotated_array = array[-k:] + array[:-k]\n",
    "\n",
    "# Print the rotated array\n",
    "print(\"Rotated array:\", rotated_array)\n"
   ]
  },
  {
   "cell_type": "code",
   "execution_count": 7,
   "id": "c8fb915e-9517-4432-a8d0-8988abcb9b18",
   "metadata": {},
   "outputs": [
    {
     "name": "stdout",
     "output_type": "stream",
     "text": [
      "4\n"
     ]
    }
   ],
   "source": [
    "n=13\n",
    "d=2\n",
    "l=1\n",
    "h=13\n",
    "\n",
    "while l<=h:\n",
    "\n",
    "    m=(l+h)//d\n",
    "    s=sum(int(digit) for digit in str(m))\n",
    "    if (m-s)<=d:\n",
    "        l=m+1\n",
    "    else:\n",
    "        h=m-1\n",
    "\n",
    "x=n-h\n",
    "print(x)\n"
   ]
  },
  {
   "cell_type": "code",
   "execution_count": 1,
   "id": "0834e32e-8422-41a7-afb2-09faed436b28",
   "metadata": {},
   "outputs": [],
   "source": [
    "index=-1"
   ]
  },
  {
   "cell_type": "code",
   "execution_count": 11,
   "id": "d7d806be-db54-4062-a0b4-609fd6b337a9",
   "metadata": {},
   "outputs": [
    {
     "name": "stdout",
     "output_type": "stream",
     "text": [
      "23\n"
     ]
    }
   ],
   "source": [
    "x=  [\n",
    "    [11,12,13],\n",
    "    [21,22,23],\n",
    "    [31,32,33]\n",
    "             ]\n",
    "op=x[1][2]\n",
    "print(op)\n"
   ]
  },
  {
   "cell_type": "code",
   "execution_count": 19,
   "id": "704ab34d-edfd-40f7-809b-f48481c2fe12",
   "metadata": {},
   "outputs": [
    {
     "name": "stdout",
     "output_type": "stream",
     "text": [
      "111213\n",
      "212223\n",
      "313233\n"
     ]
    }
   ],
   "source": [
    "#traverse all elements\n",
    "for i in  x:\n",
    "    for j in i:#i th row traversal of jth column\n",
    "        print(j,end=\"\")\n",
    "    print()"
   ]
  },
  {
   "cell_type": "code",
   "execution_count": 43,
   "id": "2d3843bb-a30e-4c2d-8de3-de5ea4c6bc86",
   "metadata": {},
   "outputs": [
    {
     "name": "stdout",
     "output_type": "stream",
     "text": [
      "222426\n",
      "424446\n",
      "626466\n"
     ]
    }
   ],
   "source": [
    "#concatination of two arrays\n",
    "x1=  [\n",
    "    [11,12,13],\n",
    "    [21,22,23],\n",
    "    [31,32,33]\n",
    "             ]\n",
    "x2=  [\n",
    "    [11,12,13],\n",
    "    [21,22,23],\n",
    "    [31,32,33]\n",
    "             ]\n",
    "result=[]\n",
    "#matrix addition\n",
    "for i in range(len(x1)):\n",
    "    row=[]\n",
    "    for j in range(len(x1[0])):\n",
    "        row.append(x1[i][j]+x2[i][j])\n",
    "    result.append(row)\n",
    "#print output\n",
    "for i in result:\n",
    "    for j in i:\n",
    "        print(j,end=\"\")\n",
    "    print()   "
   ]
  },
  {
   "cell_type": "code",
   "execution_count": null,
   "id": "fe05f469-fde3-43d6-9861-479b08b9cf40",
   "metadata": {},
   "outputs": [],
   "source": []
  }
 ],
 "metadata": {
  "kernelspec": {
   "display_name": "Python [conda env:base] *",
   "language": "python",
   "name": "conda-base-py"
  },
  "language_info": {
   "codemirror_mode": {
    "name": "ipython",
    "version": 3
   },
   "file_extension": ".py",
   "mimetype": "text/x-python",
   "name": "python",
   "nbconvert_exporter": "python",
   "pygments_lexer": "ipython3",
   "version": "3.12.4"
  }
 },
 "nbformat": 4,
 "nbformat_minor": 5
}
