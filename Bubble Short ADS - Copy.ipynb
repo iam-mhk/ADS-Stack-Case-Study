{
 "cells": [
  {
   "cell_type": "code",
   "execution_count": 3,
   "id": "87db06c0-fe34-40a8-aeca-ae5883515fb3",
   "metadata": {},
   "outputs": [
    {
     "name": "stdout",
     "output_type": "stream",
     "text": [
      "Sorted list is: [11, 12, 22, 25, 34, 64, 90]\n"
     ]
    }
   ],
   "source": [
    "def bubble_sort(list):\n",
    "    size=len(list)\n",
    "    for i in range(size):\n",
    "        for j in range(0,size-1):\n",
    "            \n",
    "            if list[j]>list[j+1]:\n",
    "                temp=list[j]\n",
    "                list[j]=list[j+1]\n",
    "                list[j+1]=temp\n",
    "    return list\n",
    "sample_list = [64, 34, 25, 12, 22, 11, 90]\n",
    "print(\"Sorted list is:\", bubble_sort(sample_list))\n",
    "#Time Complexity\n",
    "#Best Case: O(n) when the list is already sorted (although the provided implementation always runs in O(n^2)).\n",
    "#Worst Case and Average Case: O(n^2) due to the nested loops.\n",
    "#Space Complexity: O(1)\n",
    "#Bubble Sort is an in-place sorting algorithm, meaning it doesn't require additional storage for sorting the array.\n",
    "#Auxiliary Space: The space complexity is constant, O(1), because it only uses a few additional variables for swapping elements (temp, i, j, and swapped in the optimized version).\n",
    "#No extra space proportional to the input size is used."
   ]
  },
  {
   "cell_type": "code",
   "execution_count": 11,
   "id": "0e8c8dfc-ac21-4772-a787-1f313e64baa8",
   "metadata": {},
   "outputs": [
    {
     "name": "stdin",
     "output_type": "stream",
     "text": [
      "Enter the number of elements: 5\n",
      "Enter the elements: 60\n",
      "Enter the elements: 12\n",
      "Enter the elements: 13\n",
      "Enter the elements: 45\n",
      "Enter the elements: 54\n"
     ]
    },
    {
     "name": "stdout",
     "output_type": "stream",
     "text": [
      "The sorted elements are:\n",
      "12 13 45 54 60 "
     ]
    }
   ],
   "source": [
    "def bubble_sort(list):\n",
    "    size=len(list)\n",
    "    for i in range(size):\n",
    "        for j in range(0,size-1):\n",
    "            \n",
    "            if list[j]>list[j+1]:\n",
    "                temp=list[j]\n",
    "                list[j]=list[j+1]\n",
    "                list[j+1]=temp\n",
    "n=int(input(\"Enter the number of elements:\"))\n",
    "lst=[]\n",
    "for i in range(n):\n",
    "    num =int(input(\"Enter the elements:\"))\n",
    "    lst.append(num)\n",
    "\n",
    "bubble_sort(lst)\n",
    "print(\"The sorted elements are:\")\n",
    "for i in range(n):\n",
    "             print(lst[i],end=\" \")\n",
    "\n",
    "#Time complexity\n",
    "#Best Case Time Complexity: O(n) when the list is already sorted (with the correct optimized Bubble Sort implementation).\n",
    "#Worst Case Time Complexity: O(n^2) because it involves nested loops.\n",
    "#Average Case Time Complexity: O(n^2) for an arbitrary unsorted list.\n",
    " #Space Complexity: O(1) (constant space) since Bubble Sort is an in-place sorting algorithm, meaning it doesn't require additional storage proportional to the input size.\n",
    " #It only uses a few extra variables for swapping elements.  "
   ]
  },
  {
   "cell_type": "code",
   "execution_count": 3,
   "id": "b57d5d75-1ef9-4ccc-9c30-a7bb9870d1ef",
   "metadata": {},
   "outputs": [
    {
     "name": "stdout",
     "output_type": "stream",
     "text": [
      "Sorted list in descending order is: [90, 64, 34, 25, 22, 12, 11]\n"
     ]
    }
   ],
   "source": [
    "def bubble_sort_descending(lst):\n",
    "    size = len(lst)\n",
    "    for i in range(size):\n",
    "        for j in range(0, size - 1):\n",
    "            if lst[j] < lst[j + 1]:\n",
    "                temp = lst[j]\n",
    "                lst[j] = lst[j + 1]\n",
    "                lst[j + 1] = temp\n",
    "    return lst\n",
    "\n",
    "sort_list = [64, 34, 25, 12, 22, 11, 90]\n",
    "print(\"Sorted list in descending order is:\", bubble_sort_descending(sort_list))\n",
    "\n",
    " \n",
    "    "
   ]
  },
  {
   "cell_type": "code",
   "execution_count": 5,
   "id": "522d9a82-255b-4e3f-9493-04933b6a7e21",
   "metadata": {},
   "outputs": [
    {
     "name": "stdout",
     "output_type": "stream",
     "text": [
      "Sorted list in descending order is: [90, 64, 34, 25, 22, 12, 11]\n",
      "Swap counts for each element: {64: 1, 34: 1, 25: 1, 12: 2, 22: 2, 11: 1, 90: 6}\n"
     ]
    }
   ],
   "source": [
    "def bubble_sort_descending(lst):\n",
    "    size = len(lst)\n",
    "    swaps = {x: 0 for x in lst}  \n",
    "    for i in range(size):\n",
    "        for j in range(0, size - 1):\n",
    "            if lst[j] < lst[j + 1]:\n",
    "                \n",
    "                temp = lst[j]\n",
    "                lst[j] = lst[j + 1]\n",
    "                lst[j + 1] = temp\n",
    "                \n",
    "                swaps[lst[j]] += 1\n",
    "                swaps[lst[j + 1]] += 1\n",
    "    return lst, swaps\n",
    "\n",
    "sample_list = [64, 34, 25, 12, 22, 11, 90]\n",
    "sorted_list, swap_counts = bubble_sort_descending(sample_list)\n",
    "\n",
    "print(\"Sorted list in descending order is:\", sorted_list)\n",
    "print(\"Swap counts for each element:\", swap_counts)\n"
   ]
  },
  {
   "cell_type": "code",
   "execution_count": null,
   "id": "a0bf8763-57d6-4449-b0a5-84d876ab61c2",
   "metadata": {},
   "outputs": [],
   "source": []
  }
 ],
 "metadata": {
  "kernelspec": {
   "display_name": "Python [conda env:base] *",
   "language": "python",
   "name": "conda-base-py"
  },
  "language_info": {
   "codemirror_mode": {
    "name": "ipython",
    "version": 3
   },
   "file_extension": ".py",
   "mimetype": "text/x-python",
   "name": "python",
   "nbconvert_exporter": "python",
   "pygments_lexer": "ipython3",
   "version": "3.12.4"
  }
 },
 "nbformat": 4,
 "nbformat_minor": 5
}
