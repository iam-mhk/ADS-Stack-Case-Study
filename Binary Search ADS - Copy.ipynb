{
 "cells": [
  {
   "cell_type": "code",
   "execution_count": 1,
   "id": "4871c3c4-efc8-4b68-b008-19df9d0462b7",
   "metadata": {},
   "outputs": [
    {
     "name": "stdin",
     "output_type": "stream",
     "text": [
      "Enter the no.of elements: 3\n",
      "Enter elements: 1\n",
      "Enter elements: 2\n",
      "Enter elements: 3\n",
      "Enter the element to be searched: 4\n"
     ]
    },
    {
     "name": "stdout",
     "output_type": "stream",
     "text": [
      "Element not found\n"
     ]
    }
   ],
   "source": [
    "def Binary_Search(list,key_value):#most efficient than linear bcz it split the array in 4 step.\n",
    "    \n",
    "    low=0\n",
    "    high=len(list)-1\n",
    "    while low <= high:\n",
    "        mid = (low+high) //2\n",
    "        if key_value == list[mid]:\n",
    "            return mid\n",
    "\n",
    "        elif key_value<list[mid]:\n",
    "            high=mid-1\n",
    "\n",
    "        else:\n",
    "            low=mid+1  \n",
    "\n",
    "    return -1           # (return -1)It's a way to signal that the key value is not present in the list.\n",
    "\n",
    "n=int(input(\"Enter the no.of elements:\"))\n",
    "lst=[]\n",
    "for i in range(n):\n",
    "    num=int(input(\"Enter elements:\"))\n",
    "    lst.append(num)\n",
    "key=int(input(\"Enter the element to be searched:\"))\n",
    "position=Binary_Search(lst,key)\n",
    "if position==-1:   #(-1 means if key_element is not found)\n",
    "    print(\"Element not found\")\n",
    "else :\n",
    "    print(\"{}  found at position {}\".format(key,position))\n",
    "\n",
    "#Time Complexity: O(log n)\n",
    "#Where n is the number of elements in the list.\n",
    "#This is because in each iteration, the algorithm divides the list into two halves,\n",
    "#reducing the search space exponentially.\n",
    "#Space Complexity: O(1)\n",
    "#This is because the space required by the algorithm does not increase with the size of the input list.\n",
    "#The variables low, high, mid, and key_value occupy a fixed amount of space. "
   ]
  },
  {
   "cell_type": "code",
   "execution_count": 5,
   "id": "008639a1-b7f4-46c1-b110-e6375fbc6fdd",
   "metadata": {},
   "outputs": [
    {
     "name": "stdout",
     "output_type": "stream",
     "text": [
      "Sorted list is: [11, 12, 22, 25, 34, 64, 90]\n",
      "Key value found at index: 3\n"
     ]
    }
   ],
   "source": [
    "def Binary_Search(lst, key_value):\n",
    "    # Most efficient than linear because it splits the array in steps.\n",
    "    low = 0\n",
    "    high = len(lst) - 1\n",
    "    while low <= high:\n",
    "        mid = (low + high) // 2\n",
    "        if key_value == lst[mid]:\n",
    "            return mid\n",
    "        elif key_value < lst[mid]:\n",
    "            high = mid - 1\n",
    "        else:\n",
    "            low = mid + 1\n",
    "    return -1  # It's a way to signal that the key value is not present in the list.\n",
    "\n",
    "lst = sorted([64, 34, 25, 12, 22, 11, 90])\n",
    "key_value = 25\n",
    "result = Binary_Search(lst, key_value)\n",
    "print(\"Sorted list is:\", lst)\n",
    "print(\"Key value found at index:\", result)\n"
   ]
  },
  {
   "cell_type": "code",
   "execution_count": 9,
   "id": "c007556b-906a-4d5f-b93f-2e5f417bccd7",
   "metadata": {},
   "outputs": [
    {
     "name": "stdout",
     "output_type": "stream",
     "text": [
      "Unique element found by Binary Search: 4\n"
     ]
    }
   ],
   "source": [
    "def find_unique_binary(arr):\n",
    "    low = 0\n",
    "    high = len(arr) - 1\n",
    "    while low < high:\n",
    "        mid = low + (high - low) // 2\n",
    "        if mid % 2 == 1:\n",
    "            mid -= 1\n",
    "        if arr[mid] == arr[mid + 1]:\n",
    "            low = mid + 2\n",
    "        else:\n",
    "            high = mid\n",
    "    return arr[low]\n",
    "\n",
    "arr = [1, 1, 2, 2, 3, 3, 4, 5, 5]\n",
    "\n",
    "\n",
    "unique_element_binary = find_unique_binary(arr)\n",
    "print(\"Unique element found by Binary Search:\", unique_element_binary)\n",
    "#Time Complexity: O(log n)\n",
    "#Where n is the number of elements in the list.\n",
    "#This is because in each iteration, the algorithm divides the list into two halves,\n",
    "#reducing the search space exponentially.\n"
   ]
  },
  {
   "cell_type": "code",
   "execution_count": null,
   "id": "418609b2-330f-4519-95a1-926fb4a9ec3e",
   "metadata": {},
   "outputs": [],
   "source": []
  }
 ],
 "metadata": {
  "kernelspec": {
   "display_name": "Python [conda env:base] *",
   "language": "python",
   "name": "conda-base-py"
  },
  "language_info": {
   "codemirror_mode": {
    "name": "ipython",
    "version": 3
   },
   "file_extension": ".py",
   "mimetype": "text/x-python",
   "name": "python",
   "nbconvert_exporter": "python",
   "pygments_lexer": "ipython3",
   "version": "3.12.4"
  }
 },
 "nbformat": 4,
 "nbformat_minor": 5
}
